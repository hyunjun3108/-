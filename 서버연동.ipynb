{
 "cells": [
  {
   "cell_type": "code",
   "execution_count": 8,
   "id": "37f0bee2-9756-4cba-b391-3b7b404a688c",
   "metadata": {},
   "outputs": [
    {
     "name": "stdout",
     "output_type": "stream",
     "text": [
      "transfermarkt.py 파일이 생성되었습니다.\n"
     ]
    }
   ],
   "source": [
    "#트랜스퍼 마켓 크롤링 파일 생성\n",
    "with open('transfermarkt.py', 'w', encoding='utf-8') as file:\n",
    "    code = '''\n",
    "from bs4 import BeautifulSoup\n",
    "import requests\n",
    "import pandas as pd\n",
    "import time\n",
    " \n",
    "def show_valueList(list_num, typeList):\n",
    "    list_num = int(list_num)\n",
    "    url = \"https://www.transfermarkt.com/\"\n",
    " \n",
    "    headers = {'User-Agent' : \"Mozilla/5.0 (Windows NT 10.0; Win64; x64) AppleWebKit/537.36 (KHTML, like Gecko) Chrome/103.0.0.0 Safari/537.36\"}\n",
    "    player_list=[]\n",
    "    \n",
    "    for i in range(1, ceil(list_num/25)+1):\n",
    "        url = f\"https://www.transfermarkt.com/spieler-statistik/wertvollstespieler/marktwertetop?ajax=yw1&page={i}\"\n",
    " \n",
    "        r = requests.get(url, headers=headers)\n",
    " \n",
    "        soup = BeautifulSoup(r.text, 'html.parser')\n",
    "        player_info = soup.find_all('tr', class_ = ['odd','even'])\n",
    " \n",
    "        for info in player_info:\n",
    "            player = info.find_all(\"td\")\n",
    "            number = player[0].text \n",
    "            name = player[3].text \n",
    "            position = player[4].text \n",
    "            age = player[5].text \n",
    "            nation = player[6].img['alt'] \n",
    "            team = player[7].img['alt'] \n",
    "            value = player[8].text.strip()\n",
    "            player_list.append([number, name, position, age, nation, team, value])\n",
    " \n",
    "        time.sleep(1)\n",
    "    \n",
    "    df = pd.DataFrame(player_list, \n",
    "        columns=['#', 'Player', 'Position', 'Age', 'Nat.', 'Club', 'Value'])\n",
    "    # value 값 전처리\n",
    "    df['Value'] = df['Value'].str.replace('€','')\n",
    "    df['Value'] = df['Value'].str.replace('m','').astype('float')\n",
    " \n",
    "    # 입력 조건에 따라 값 표시\n",
    "    if not typeList:\n",
    "    # checkbox 선택 하나도 없을 땐 값 표시 X\n",
    "        df.drop(columns=['Value'], inplace=True)\n",
    "    # index의 checkbox 데이터가 배열로 넘어옴\n",
    "    else:\n",
    "        for data in typeList:\n",
    "            if data == \"USD\":\n",
    "                df['Value($)'] = df['Value']*1.01\n",
    "                df['Value($)'] = df['Value($)'].astype(str)+'M'\n",
    "            elif data == \"EUR\":\n",
    "                df['Value(€)'] = df['Value']\n",
    "                df['Value(€)'] = df['Value(€)'].astype(str)+'M'\n",
    "            elif data == \"KRW\":\n",
    "                df['Value(₩)'] = df['Value']*13\n",
    "                df['Value(₩)'] = df['Value(₩)'].astype(str)+'억'\n",
    "        df.drop(columns=['Value'], inplace=True)\n",
    " \n",
    "    return df[0:list_num] # 입력한 명 수만큼 인덱싱\n",
    " \n",
    " \n",
    "if __name__ == \"__main__\":\n",
    "    df = show_valueList(10)\n",
    "    # 크롤링한 데이터를 CSV 파일로 저장\n",
    "    df.to_csv('transfermarkt_data.csv', index=False)\n",
    "    print(\"크롤링 완료 및 데이터 저장됨\")\n",
    "'''\n",
    "    file.write(code)\n",
    "\n",
    "print(\"transfermarkt.py 파일이 생성되었습니다.\")"
   ]
  },
  {
   "cell_type": "code",
   "execution_count": 9,
   "id": "a18d6797-b17b-41d9-a6d5-72844ab04aa4",
   "metadata": {},
   "outputs": [
    {
     "name": "stdout",
     "output_type": "stream",
     "text": [
      " * Serving Flask app '__main__'\n",
      " * Debug mode: on\n"
     ]
    },
    {
     "name": "stderr",
     "output_type": "stream",
     "text": [
      "WARNING: This is a development server. Do not use it in a production deployment. Use a production WSGI server instead.\n",
      " * Running on http://127.0.0.1:5000\n",
      "Press CTRL+C to quit\n",
      " * Restarting with watchdog (windowsapi)\n"
     ]
    },
    {
     "ename": "SystemExit",
     "evalue": "1",
     "output_type": "error",
     "traceback": [
      "An exception has occurred, use %tb to see the full traceback.\n",
      "\u001b[1;31mSystemExit\u001b[0m\u001b[1;31m:\u001b[0m 1\n"
     ]
    }
   ],
   "source": [
    "from flask import Flask, render_template, request\n",
    "import pandas as pd\n",
    "import transfermarkt\n",
    " \n",
    "app = Flask(__name__)\n",
    " \n",
    "@app.route('/')\n",
    "def index():\n",
    "    return render_template('index.html')\n",
    " \n",
    "@app.route(\"/list\", methods=['POST'])\n",
    "def post():\n",
    "    num = request.form[\"listnum\"]\n",
    "    # checkbox 데이터 POST로 가져오기\n",
    "    typeList = request.form.getlist('type')\n",
    "    df = transfermarkt.show_valueList(num, typeList)\n",
    "    return df.to_html(index=False)\n",
    " \n",
    " \n",
    "if __name__ == \"__main__\":\n",
    "    app.run(debug=True)"
   ]
  },
  {
   "cell_type": "code",
   "execution_count": null,
   "id": "d95f33b8-3ed9-4ff5-9095-9e71972d4536",
   "metadata": {},
   "outputs": [],
   "source": []
  }
 ],
 "metadata": {
  "kernelspec": {
   "display_name": "Python 3 (ipykernel)",
   "language": "python",
   "name": "python3"
  },
  "language_info": {
   "codemirror_mode": {
    "name": "ipython",
    "version": 3
   },
   "file_extension": ".py",
   "mimetype": "text/x-python",
   "name": "python",
   "nbconvert_exporter": "python",
   "pygments_lexer": "ipython3",
   "version": "3.11.7"
  }
 },
 "nbformat": 4,
 "nbformat_minor": 5
}
